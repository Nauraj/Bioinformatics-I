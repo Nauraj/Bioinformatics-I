{
 "cells": [
  {
   "cell_type": "markdown",
   "metadata": {},
   "source": [
    "### QUIZ-1"
   ]
  },
  {
   "cell_type": "markdown",
   "metadata": {},
   "source": [
    "###  Hidden Messages in the Replication Origin"
   ]
  },
  {
   "cell_type": "markdown",
   "metadata": {},
   "source": [
    "* Q1: Compute Count(CGCGATACGTTACATACATGATAGACCGCGCGCGATCATATCGCGATTATC, CGCG)."
   ]
  },
  {
   "cell_type": "code",
   "execution_count": 2,
   "metadata": {
    "collapsed": true
   },
   "outputs": [],
   "source": [
    "import re as re\n",
    "import pandas as pd\n",
    "import numpy as np\n"
   ]
  },
  {
   "cell_type": "code",
   "execution_count": 3,
   "metadata": {
    "collapsed": false
   },
   "outputs": [
    {
     "data": {
      "text/plain": [
       "14"
      ]
     },
     "execution_count": 3,
     "metadata": {},
     "output_type": "execute_result"
    }
   ],
   "source": [
    "'CGCGATACGTTACATACATGATAGACCGCGCGCGATCATATCGCGATTATC'.count('A')"
   ]
  },
  {
   "cell_type": "code",
   "execution_count": 4,
   "metadata": {
    "collapsed": false
   },
   "outputs": [
    {
     "data": {
      "text/plain": [
       "12"
      ]
     },
     "execution_count": 4,
     "metadata": {},
     "output_type": "execute_result"
    }
   ],
   "source": [
    "'CGCGATACGTTACATACATGATAGACCGCGCGCGATCATATCGCGATTATC'.count('T')"
   ]
  },
  {
   "cell_type": "code",
   "execution_count": 5,
   "metadata": {
    "collapsed": false
   },
   "outputs": [
    {
     "name": "stdout",
     "output_type": "stream",
     "text": [
      "('No of', 'A', 14)\n",
      "('No of', 'T', 12)\n",
      "('No of', 'G', 11)\n",
      "('No of', 'C', 15)\n"
     ]
    }
   ],
   "source": [
    "stor = []\n",
    "for letter in ['A','T','G','C']:\n",
    "    x ='CGCGATACGTTACATACATGATAGACCGCGCGCGATCATATCGCGATTCATC'.count(letter)\n",
    "    print('No of', letter , x)\n",
    "    stor.append(x)"
   ]
  },
  {
   "cell_type": "code",
   "execution_count": 6,
   "metadata": {
    "collapsed": false
   },
   "outputs": [
    {
     "data": {
      "text/plain": [
       "[14, 12, 11, 15]"
      ]
     },
     "execution_count": 6,
     "metadata": {},
     "output_type": "execute_result"
    }
   ],
   "source": [
    "stor"
   ]
  },
  {
   "cell_type": "code",
   "execution_count": 9,
   "metadata": {
    "collapsed": false
   },
   "outputs": [],
   "source": [
    "%matplotlib inline"
   ]
  },
  {
   "cell_type": "code",
   "execution_count": 10,
   "metadata": {
    "collapsed": false
   },
   "outputs": [
    {
     "data": {
      "text/plain": [
       "<matplotlib.axes._subplots.AxesSubplot at 0x118aa8a10>"
      ]
     },
     "execution_count": 10,
     "metadata": {},
     "output_type": "execute_result"
    },
    {
     "data": {
      "image/png": "[encoded data removed]",
      "text/plain": [
       "<matplotlib.figure.Figure at 0x118aa8290>"
      ]
     },
     "metadata": {},
     "output_type": "display_data"
    }
   ],
   "source": [
    "pd.DataFrame(stor).plot()\n"
   ]
  },
  {
   "cell_type": "code",
   "execution_count": null,
   "metadata": {
    "collapsed": true
   },
   "outputs": [],
   "source": []
  },
  {
   "cell_type": "code",
   "execution_count": 11,
   "metadata": {
    "collapsed": true
   },
   "outputs": [],
   "source": [
    "def counter(text,pattern):\n",
    "    return text.count(pattern)"
   ]
  },
  {
   "cell_type": "code",
   "execution_count": 12,
   "metadata": {
    "collapsed": false
   },
   "outputs": [
    {
     "data": {
      "text/plain": [
       "3"
      ]
     },
     "execution_count": 12,
     "metadata": {},
     "output_type": "execute_result"
    }
   ],
   "source": [
    "counter('ABCDABCDABCD','ABC')"
   ]
  },
  {
   "cell_type": "code",
   "execution_count": 13,
   "metadata": {
    "collapsed": false
   },
   "outputs": [
    {
     "data": {
      "text/plain": [
       "4"
      ]
     },
     "execution_count": 13,
     "metadata": {},
     "output_type": "execute_result"
    }
   ],
   "source": [
    "counter('CGCGATACGTTACATACATGATAGACCGCGCGCGATCATATCGCGATTATC','CGCG')"
   ]
  },
  {
   "cell_type": "code",
   "execution_count": 14,
   "metadata": {
    "collapsed": false
   },
   "outputs": [
    {
     "data": {
      "text/plain": [
       "3"
      ]
     },
     "execution_count": 14,
     "metadata": {},
     "output_type": "execute_result"
    }
   ],
   "source": [
    "counter('ACTGTACGATGATGTGTGTCAAAG', 'TGT')"
   ]
  },
  {
   "cell_type": "markdown",
   "metadata": {},
   "source": [
    "------------------"
   ]
  },
  {
   "cell_type": "code",
   "execution_count": 15,
   "metadata": {
    "collapsed": false
   },
   "outputs": [],
   "source": [
    "f = open('datainput.txt', 'r')\n",
    "x = f.readlines()\n",
    "f.close()"
   ]
  },
  {
   "cell_type": "code",
   "execution_count": 16,
   "metadata": {
    "collapsed": false
   },
   "outputs": [
    {
     "data": {
      "text/plain": [
       "['TCATGCTACATTTCTGATTTCTGAATTTCTGGTCGATCCAGCATATTTCTGATTTCTGCCGGTATTTCTGATTTCTGGATTTCTGCATTTCTGACATTTCTGCTATTTCTGTGAATTTCTGATTTCTGATTTCTGATTTCTGTTTTGATTTCTGTGCATTTCTGATTTCTGGTCGCAGTATTTCTGATTTCTGAGTTATTATTTCTGACATTTCTGAAATTTCTGAGAGGCGCTGGAGCTAATTATTGATTTCTGTCATTTCTGGGCGTTGTCTTAATTTCTGGCTGGGATTTCTGATTTCTGGCCAATTTCTGAATTTCTGCCATAATTTCTGTGAGTATTTCTGAATTTCTGATTTCTGATTTCTGCAGCGACGATTTCTGTAATTTCTGATTTCTGGATTTCTGATTTCTGCTAGTGAATTTCTGATTTCTGACAGTAAATTTCTGAATTTCTGCCTATTTCTGTTAAACCAATCGATTTCTGCGCTATTTCTGATTTCTGATTTCTGTCATTTCTGATTTCTGCCGGATTTCTGTCCGGCGATTTCTGTTCAGATCCCATTTCTGAGTCATTTCTGAATTTCTGTGGTTATTTCTGTTGATTTCTGATTTCTGGATTTCTGGTATTTCTGAATTTCTGGTATTTCTGATTTCTGCATTTCTGATTTCTGTAATTTCTGAGTGTATTTCTGCATCTATTTCTGATTTCTGGATTTCTGTATTTCTGATTTCTGAATTTCTGCGGAATTTCTGATTTCTGATTATTTCTGCATTTCTGATTTCTGTATTTCTGCCATTTCTGATTTCTGTCATTTCTGCTGATTTCTGATTTCTGGACCATTTCTGATTTCTGGAATTTCTGCATTTCTGTATTTCTGCATTTCTGGATTTCTGTCTTGGCATAGTAGATTTCTGATTTCTGCTTATTTCTGCTCGCATTTCTGCATTTCTGCGGATTTCTGATTTCTGATTCATGCTACATTTCTGATTTCTGAATTTCTGGTCGATCCAGCATATTTCTGATTTCTGCCGGTATTTCTGATTTCTGGATTTCTGCATTTCTGACATTTCTGCTATTTCTGTGAATTTCTGATTTCTGATTTCTGATTTCTGTTTTGATTTCTGTGCATTTCTGATTTCTGGTCGCAGTATTTCTGATTTCTGAGTTATTATTTCTGACATTTCTGAAATTTCTGAGAGGCGCTGGAGCTAATTATTGATTTCTGTCATTTCTGGGCGTTGTCTTAATTTCTGGCTGGGATTTCTGATTTCTGGCCAATTTCTGAATTTCTGCCATAATTTCTGTGAGTATTTCTGAATTTCTGATTTCTGATTTCTGCAGCGACGATTTCTGTAATTTCTGATTTCTGGATTTCTGATTTCTGCTAGTGAATTTCTGATTTCTGACAGTAAATTTCTGAATTTCTGCCTATTTCTGTTAAACCAATCGATTTCTGCGCTATTTCTGATTTCTGATTTCTGTCATTTCTGATTTCTGCCGGATTTCTGTCCGGCGATTTCTGTTCAGATCCCATTTCTGAGTCATTTCTGAATTTCTGTGGTTATTTCTGTTGATTTCTGATTTCTGGATTTCTGGTATTTCTGAATTTCTGGTATTTCTGATTTCTGCATTTCTGATTTCTGTAATTTCTGAGTGTATTTCTGCATCTATTTCTGATTTCTGGATTTCTGTATTTCTGATTTCTGAATTTCTGCGGAATTTCTGATTTCTGATTATTTCTGCATTTCTGATTTCTGTATTTCTGCCATTTCTGATTTCTGTCATTTCTGCTGATTTCTGATTTCTGGACCATTTCTGATTTCTGGAATTTCTGCATTTCTGTATTTCTGCATTTCTGGATTTCTGTCTTGGCATAGTAGATTTCTGATTTCTGCTTATTTCTGCTCGCATTTCTGCATTTCTGCGGATTTCTGATTTCTGATTCATGCTACATTTCTGATTTCTGAATTTCTGGTCGATCCAGCATATTTCTGATTTCTGCCGGTATTTCTGATTTCTGGATTTCTGCATTTCTGACATTTCTGCTATTTCTGTGAATTTCTGATTTCTGATTTCTGATTTCTGTTTTGATTTCTGTGCATTTCTGATTTCTGGTCGCAGTATTTCTGATTTCTGAGTTATTATTTCTGACATTTCTGAAATTTCTGAGAGGCGCTGGAGCTAATTATTGATTTCTGTCATTTCTGGGCGTTGTCTTAATTTCTGGCTGGGATTTCTGATTTCTGGCCAATTTCTGAATTTCTGCCATAATTTCTGTGAGTATTTCTGAATTTCTGATTTCTGATTTCTGCAGCGACGATTTCTGTAATTTCTGATTTCTGGATTTCTGATTTCTGCTAGTGAATTTCTGATTTCTGACAGTAAATTTCTGAATTTCTGCCTATTTCTGTTAAACCAATCGATTTCTGCGCTATTTCTGATTTCTGATTTCTGTCATTTCTGATTTCTGCCGGATTTCTGTCCGGCGATTTCTGTTCAGATCCCATTTCTGAGTCATTTCTGAATTTCTGTGGTTATTTCTGTTGATTTCTGATTTCTGGATTTCTGGTATTTCTGAATTTCTGGTATTTCTGATTTCTGCATTTCTGATTTCTGTAATTTCTGAGTGTATTTCTGCATCTATTTCTGATTTCTGGATTTCTGTATTTCTGATTTCTGAATTTCTGCGGAATTTCTGATTTCTGATTATTTCTGCATTTCTGATTTCTGTATTTCTGCCATTTCTGATTTCTGTCATTTCTGCTGATTTCTGATTTCTGGACCATTTCTGATTTCTGGAATTTCTGCATTTCTGTATTTCTGCATTTCTGGATTTCTGTCTTGGCATAGTAGATTTCTGATTTCTGCTTATTTCTGCTCGCATTTCTGCATTTCTGCGGATTTCTGATTTCTGATTCATGCTACATTTCTGATTTCTGAATTTCTGGTCGATCCAGCATATTTCTGATTTCTGCCGGTATTTCTGATTTCTGGATTTCTGCATTTCTGACATTTCTGCTATTTCTGTGAATTTCTGATTTCTGATTTCTGATTTCTGTTTTGATTTCTGTGCATTTCTGATTTCTGGTCGCAGTATTTCTGATTTCTGAGTTATTATTTCTGACATTTCTGAAATTTCTGAGAGGCGCTGGAGCTAATTATTGATTTCTGTCATTTCTGGGCGTTGTCTTAATTTCTGGCTGGGATTTCTGATTTCTGGCCAATTTCTGAATTTCTGCCATAATTTCTGTGAGTATTTCTGAATTTCTGATTTCTGATTTCTGCAGCGACGATTTCTGTAATTTCTGATTTCTGGATTTCTGATTTCTGCTAGTGAATTTCTGATTTCTGACAGTAAATTTCTGAATTTCTGCCTATTTCTGTTAAACCAATCGATTTCTGCGCTATTTCTGATTTCTGATTTCTGTCATTTCTGATTTCTGCCGGATTTCTGTCCGGCGATTTCTGTTCAGATCCCATTTCTGAGTCATTTCTGAATTTCTGTGGTTATTTCTGTTGATTTCTGATTTCTGGATTTCTGGTATTTCTGAATTTCTGGTATTTCTGATTTCTGCATTTCTGATTTCTGTAATTTCTGAGTGTATTTCTGCATCTATTTCTGATTTCTGGATTTCTGTATTTCTGATTTCTGAATTTCTGCGGAATTTCTGATTTCTGATTATTTCTGCATTTCTGATTTCTGTATTTCTGCCATTTCTGATTTCTGTCATTTCTGCTGATTTCTGATTTCTGGACCATTTCTGATTTCTGGAATTTCTGCATTTCTGTATTTCTGCATTTCTGGATTTCTGTCTTGGCATAGTAGATTTCTGATTTCTGCTTATTTCTGCTCGCATTTCTGCATTTCTGCGGATTTCTGATTTCTGAT\\n',\n",
       " '\\n',\n",
       " '\\n',\n",
       " '\\n']"
      ]
     },
     "execution_count": 16,
     "metadata": {},
     "output_type": "execute_result"
    }
   ],
   "source": [
    "x"
   ]
  },
  {
   "cell_type": "code",
   "execution_count": 19,
   "metadata": {
    "collapsed": false
   },
   "outputs": [
    {
     "data": {
      "text/plain": [
       "'\\n'"
      ]
     },
     "execution_count": 19,
     "metadata": {},
     "output_type": "execute_result"
    }
   ],
   "source": [
    "str(x[1])"
   ]
  },
  {
   "cell_type": "code",
   "execution_count": 21,
   "metadata": {
    "collapsed": false
   },
   "outputs": [
    {
     "data": {
      "text/plain": [
       "['a', 'p', 'p', 'l', 'e']"
      ]
     },
     "execution_count": 21,
     "metadata": {},
     "output_type": "execute_result"
    }
   ],
   "source": [
    "list ('apple')"
   ]
  },
  {
   "cell_type": "code",
   "execution_count": 25,
   "metadata": {
    "collapsed": false
   },
   "outputs": [],
   "source": [
    "chain = list(str(x[0]))"
   ]
  },
  {
   "cell_type": "code",
   "execution_count": 23,
   "metadata": {
    "collapsed": false
   },
   "outputs": [],
   "source": [
    "#list (str(x[0]))"
   ]
  },
  {
   "cell_type": "code",
   "execution_count": 24,
   "metadata": {
    "collapsed": false
   },
   "outputs": [],
   "source": [
    "#chain"
   ]
  },
  {
   "cell_type": "code",
   "execution_count": 28,
   "metadata": {
    "collapsed": false
   },
   "outputs": [
    {
     "name": "stdout",
     "output_type": "stream",
     "text": [
      "found\n",
      "found\n",
      "found\n",
      "found\n",
      "found\n",
      "found\n",
      "found\n",
      "found\n",
      "found\n",
      "found\n",
      "found\n",
      "found\n",
      "found\n",
      "found\n",
      "found\n",
      "found\n",
      "found\n",
      "found\n",
      "found\n",
      "found\n",
      "found\n",
      "found\n",
      "found\n",
      "found\n",
      "found\n",
      "found\n",
      "found\n",
      "found\n"
     ]
    }
   ],
   "source": [
    "count =0\n",
    "for k in range(len(chain)-3):\n",
    "    if chain[k] =='G':\n",
    "        if chain[k+1] == 'C': \n",
    "            if chain[k+2] == 'G': \n",
    "                    print('found')\n",
    "                    count = count+1"
   ]
  },
  {
   "cell_type": "code",
   "execution_count": 27,
   "metadata": {
    "collapsed": false
   },
   "outputs": [],
   "source": [
    "#len(chain)"
   ]
  },
  {
   "cell_type": "code",
   "execution_count": 29,
   "metadata": {
    "collapsed": false
   },
   "outputs": [
    {
     "data": {
      "text/plain": [
       "28"
      ]
     },
     "execution_count": 29,
     "metadata": {},
     "output_type": "execute_result"
    }
   ],
   "source": [
    "count"
   ]
  },
  {
   "cell_type": "code",
   "execution_count": 30,
   "metadata": {
    "collapsed": true
   },
   "outputs": [],
   "source": [
    "search = 4*4*4"
   ]
  },
  {
   "cell_type": "code",
   "execution_count": 57,
   "metadata": {
    "collapsed": false
   },
   "outputs": [],
   "source": [
    "all_combination= []\n",
    "for let1 in ['A','T','G','C']:\n",
    "    for let2 in ['A','T','G','C']:\n",
    "         for let3 in ['A','T','G','C']:\n",
    "                all_combination.append([let1,let2,let3])\n",
    "             "
   ]
  },
  {
   "cell_type": "code",
   "execution_count": 60,
   "metadata": {
    "collapsed": false
   },
   "outputs": [
    {
     "data": {
      "text/plain": [
       "[['A', 'A', 'A'],\n",
       " ['A', 'A', 'T'],\n",
       " ['A', 'A', 'G'],\n",
       " ['A', 'A', 'C'],\n",
       " ['A', 'T', 'A'],\n",
       " ['A', 'T', 'T'],\n",
       " ['A', 'T', 'G'],\n",
       " ['A', 'T', 'C'],\n",
       " ['A', 'G', 'A'],\n",
       " ['A', 'G', 'T']]"
      ]
     },
     "execution_count": 60,
     "metadata": {},
     "output_type": "execute_result"
    }
   ],
   "source": [
    "all_combination[0:10]"
   ]
  },
  {
   "cell_type": "code",
   "execution_count": 59,
   "metadata": {
    "collapsed": false
   },
   "outputs": [
    {
     "data": {
      "text/plain": [
       "64"
      ]
     },
     "execution_count": 59,
     "metadata": {},
     "output_type": "execute_result"
    }
   ],
   "source": [
    "len(all_combination)"
   ]
  },
  {
   "cell_type": "code",
   "execution_count": 61,
   "metadata": {
    "collapsed": true
   },
   "outputs": [],
   "source": [
    "str1 = 'CGCCTAAATAGCCTCGCGGAGCCTTATGTCATACTCGTCCT'"
   ]
  },
  {
   "cell_type": "code",
   "execution_count": 65,
   "metadata": {
    "collapsed": false
   },
   "outputs": [],
   "source": [
    "chain1  = list(str(str1))"
   ]
  },
  {
   "cell_type": "code",
   "execution_count": 66,
   "metadata": {
    "collapsed": false
   },
   "outputs": [
    {
     "data": {
      "text/plain": [
       "['C',\n",
       " 'G',\n",
       " 'C',\n",
       " 'C',\n",
       " 'T',\n",
       " 'A',\n",
       " 'A',\n",
       " 'A',\n",
       " 'T',\n",
       " 'A',\n",
       " 'G',\n",
       " 'C',\n",
       " 'C',\n",
       " 'T',\n",
       " 'C',\n",
       " 'G',\n",
       " 'C',\n",
       " 'G',\n",
       " 'G',\n",
       " 'A',\n",
       " 'G',\n",
       " 'C',\n",
       " 'C',\n",
       " 'T',\n",
       " 'T',\n",
       " 'A',\n",
       " 'T',\n",
       " 'G',\n",
       " 'T',\n",
       " 'C',\n",
       " 'A',\n",
       " 'T',\n",
       " 'A',\n",
       " 'C',\n",
       " 'T',\n",
       " 'C',\n",
       " 'G',\n",
       " 'T',\n",
       " 'C',\n",
       " 'C',\n",
       " 'T']"
      ]
     },
     "execution_count": 66,
     "metadata": {},
     "output_type": "execute_result"
    }
   ],
   "source": [
    "chain1"
   ]
  },
  {
   "cell_type": "code",
   "execution_count": null,
   "metadata": {
    "collapsed": true
   },
   "outputs": [],
   "source": []
  }
 ],
 "metadata": {
  "anaconda-cloud": {},
  "kernelspec": {
   "display_name": "Python 2",
   "language": "python",
   "name": "python2"
  },
  "language_info": {
   "codemirror_mode": {
    "name": "ipython",
    "version": 2
   },
   "file_extension": ".py",
   "mimetype": "text/x-python",
   "name": "python",
   "nbconvert_exporter": "python",
   "pygments_lexer": "ipython2",
   "version": "2.7.13"
  }
 },
 "nbformat": 4,
 "nbformat_minor": 1
}
